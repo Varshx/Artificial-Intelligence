{
  "nbformat": 4,
  "nbformat_minor": 0,
  "metadata": {
    "colab": {
      "provenance": [],
      "authorship_tag": "ABX9TyNzqL+iNThm6MaG8SR1hXmZ",
      "include_colab_link": true
    },
    "kernelspec": {
      "name": "python3",
      "display_name": "Python 3"
    },
    "language_info": {
      "name": "python"
    }
  },
  "cells": [
    {
      "cell_type": "markdown",
      "metadata": {
        "id": "view-in-github",
        "colab_type": "text"
      },
      "source": [
        "<a href=\"https://colab.research.google.com/github/Varshx/Artificial-Intelligence/blob/main/graphcoloring.ipynb\" target=\"_parent\"><img src=\"https://colab.research.google.com/assets/colab-badge.svg\" alt=\"Open In Colab\"/></a>"
      ]
    },
    {
      "cell_type": "code",
      "execution_count": 1,
      "metadata": {
        "colab": {
          "base_uri": "https://localhost:8080/"
        },
        "id": "6DiblO9R4UVj",
        "outputId": "65728322-94e7-49f8-c0a8-ee897fc043f8"
      },
      "outputs": [
        {
          "output_type": "stream",
          "name": "stdout",
          "text": [
            "The assigned colors are as follows:\n",
            "Vertex:  0  Color:  1\n",
            "Vertex:  1  Color:  2\n",
            "Vertex:  2  Color:  3\n",
            "Vertex:  3  Color:  2\n",
            "Coloring is possible!\n"
          ]
        }
      ],
      "source": [
        "# A function to print the color configuration.\n",
        "def printConfiguration(colorArray):\n",
        "    print(\"The assigned colors are as follows:\")\n",
        "    for i in range(4):\n",
        "        print(\"Vertex: \",\n",
        "              i, \" Color: \", colorArray[i])\n",
        "\n",
        "\n",
        "\"\"\"\n",
        "A function that will check if the current colorArray of the graph is safe or not.\n",
        "\"\"\"\n",
        "\n",
        "\n",
        "def isSafe(graph, colorArray):\n",
        "    for i in range(4):\n",
        "        for j in range(i + 1, 4):\n",
        "            if (graph[i][j] and colorArray[j] == colorArray[i]):\n",
        "                return False\n",
        "    return True\n",
        "\n",
        "\n",
        "\"\"\"\n",
        "A recursive function that takes the current index, number of vertices, and the color array. If the recursive call returns true then the coloring is possible. It returns\n",
        "false if the m colors cannot be assigned.\n",
        "\"\"\"\n",
        "\n",
        "\n",
        "def graphColoringAlgorithm(graph, m, i, colorArray):\n",
        "    # If we have reached the last vertex then check and print the configuration.\n",
        "    if (i == 4):\n",
        "        if (isSafe(graph, colorArray)):\n",
        "            printConfiguration(colorArray)\n",
        "            return True\n",
        "        return False\n",
        "\n",
        "    # Assigning color to the vertex and recursively calling the function.\n",
        "    for j in range(1, m + 1):\n",
        "        colorArray[i] = j\n",
        "        if (graphColoringAlgorithm(graph, m, i + 1, colorArray)):\n",
        "            return True\n",
        "        colorArray[i] = 0\n",
        "    return False\n",
        "\n",
        "\n",
        "if __name__ == '__main__':\n",
        "    graph = [\n",
        "        [0, 1, 1, 1],\n",
        "        [1, 0, 1, 0],\n",
        "        [1, 1, 0, 1],\n",
        "        [1, 0, 1, 0],\n",
        "    ]\n",
        "    m = 3\n",
        "\n",
        "    # Initially the color list is initialized with 0.\n",
        "    colorArray = [0 for i in range(4)]\n",
        "\n",
        "    if (graphColoringAlgorithm(graph, m, 0, colorArray)):\n",
        "        print(\"Coloring is possible!\")\n",
        "    else:\n",
        "        print(\"Coloring is not possible!\")\n"
      ]
    }
  ]
}