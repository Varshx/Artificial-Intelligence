{
  "nbformat": 4,
  "nbformat_minor": 0,
  "metadata": {
    "colab": {
      "provenance": [],
      "authorship_tag": "ABX9TyMV5vbBEWkBcmnhOKH77tB4",
      "include_colab_link": true
    },
    "kernelspec": {
      "name": "python3",
      "display_name": "Python 3"
    },
    "language_info": {
      "name": "python"
    }
  },
  "cells": [
    {
      "cell_type": "markdown",
      "metadata": {
        "id": "view-in-github",
        "colab_type": "text"
      },
      "source": [
        "<a href=\"https://colab.research.google.com/github/Varshx/Artificial-Intelligence/blob/main/dfs.ipynb\" target=\"_parent\"><img src=\"https://colab.research.google.com/assets/colab-badge.svg\" alt=\"Open In Colab\"/></a>"
      ]
    },
    {
      "cell_type": "code",
      "execution_count": 1,
      "metadata": {
        "colab": {
          "base_uri": "https://localhost:8080/"
        },
        "id": "aQ9TXiTk7JXj",
        "outputId": "4ad947d6-ebfd-4384-c7da-db078cfb0718"
      },
      "outputs": [
        {
          "output_type": "stream",
          "name": "stdout",
          "text": [
            "Following is the Depth-first search: [0, 2, 1, 3, 4]\n"
          ]
        }
      ],
      "source": [
        "def dfs(node, graph, visited, component):\n",
        "    component.append(node)  # Store answer\n",
        "    visited[node] = True  # Mark visited\n",
        "\n",
        "    # Traverse to each adjacent node of a node\n",
        "    for child in graph[node]:\n",
        "        if not visited[child]:  # Check whether the node is visited or not\n",
        "            dfs(child, graph, visited, component)  # Call the dfs recursively\n",
        "\n",
        "\n",
        "if __name__ == \"__main__\":\n",
        "\n",
        "    # Graph of nodes\n",
        "    graph = {\n",
        "        0: [2],\n",
        "        1: [2, 3],\n",
        "        2: [0, 1, 4],\n",
        "        3: [1, 4],\n",
        "        4: [2, 3]\n",
        "    }\n",
        "    node = 0  # Starting node\n",
        "    visited = [False]*len(graph)  # Make all nodes to False initially\n",
        "    component = []\n",
        "    dfs(node, graph, visited, component)  # Traverse to each node of a graph\n",
        "    print(f\"Following is the Depth-first search: {component}\")  # Print the answer\n"
      ]
    }
  ]
}