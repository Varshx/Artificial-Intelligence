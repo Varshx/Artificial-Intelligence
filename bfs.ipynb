{
  "nbformat": 4,
  "nbformat_minor": 0,
  "metadata": {
    "colab": {
      "provenance": [],
      "authorship_tag": "ABX9TyPBWCcV7wAHRf65QPFOQ9UB",
      "include_colab_link": true
    },
    "kernelspec": {
      "name": "python3",
      "display_name": "Python 3"
    },
    "language_info": {
      "name": "python"
    }
  },
  "cells": [
    {
      "cell_type": "markdown",
      "metadata": {
        "id": "view-in-github",
        "colab_type": "text"
      },
      "source": [
        "<a href=\"https://colab.research.google.com/github/Varshx/Artificial-Intelligence/blob/main/bfs.ipynb\" target=\"_parent\"><img src=\"https://colab.research.google.com/assets/colab-badge.svg\" alt=\"Open In Colab\"/></a>"
      ]
    },
    {
      "cell_type": "code",
      "execution_count": 2,
      "metadata": {
        "colab": {
          "base_uri": "https://localhost:8080/"
        },
        "id": "pD5ODhP25MU9",
        "outputId": "4a424a81-1108-4289-c40d-e09e1b511afc"
      },
      "outputs": [
        {
          "output_type": "stream",
          "name": "stdout",
          "text": [
            "A B C D E "
          ]
        }
      ],
      "source": [
        "# Create a graph given in the above diagram.\n",
        "graph = {\n",
        "    'A': ['B', 'C', 'D'],\n",
        "    'B': ['A'],\n",
        "    'C': ['A', 'D'],\n",
        "    'D': ['A', 'C', 'E'],\n",
        "    'E': ['D'],\n",
        "}\n",
        "\n",
        "# to print a BFS of a graph\n",
        "def bfs(node):\n",
        "\n",
        "    # mark vertices as False means not visited\n",
        "    visited = [False] * (len(graph))\n",
        "\n",
        "    # make an empty queue for bfs\n",
        "    queue = []\n",
        "\n",
        "    # mark gave node as visited and add it to the queue\n",
        "    visited.append(node)\n",
        "    queue.append(node)\n",
        "\n",
        "    while queue:\n",
        "        # Remove the front vertex or the vertex at the 0th index from the queue and print that vertex.\n",
        "        v = queue.pop(0)\n",
        "        print(v, end=\" \")\n",
        "\n",
        "        # Get all adjacent nodes of the removed node v from the graph hash table.\n",
        "        # If an adjacent node has not been visited yet,\n",
        "        # then mark it as visited and add it to the queue.\n",
        "        for neigh in graph[v]:\n",
        "            if neigh not in visited:\n",
        "                visited.append(neigh)\n",
        "                queue.append(neigh)\n",
        "\n",
        "\n",
        "# Driver Code\n",
        "if __name__ == \"__main__\":\n",
        "    bfs('A')\n"
      ]
    }
  ]
}